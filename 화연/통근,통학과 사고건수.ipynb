{
 "cells": [
  {
   "cell_type": "code",
   "execution_count": 1,
   "metadata": {},
   "outputs": [],
   "source": [
    "import json\n",
    "import pandas as pd\n",
    "import numpy as np\n",
    "\n",
    "import matplotlib.pyplot as plt\n",
    "import seaborn as sns\n",
    "import folium\n",
    "from folium import plugins\n",
    "import missingno as mnso\n",
    "\n",
    "import warnings\n",
    "warnings.filterwarnings('ignore')\n",
    "\n",
    "geo_path = 'data/seoul_municipalities_geo_simple.json'\n",
    "geo_str = json.load(open(geo_path, encoding='utf-8'))\n",
    "\n",
    "plt.rcParams['axes.unicode_minus'] = False\n",
    "plt.rcParams[\"font.family\"] = 'Malgun Gothic'"
   ]
  },
  {
   "cell_type": "code",
   "execution_count": 2,
   "metadata": {
    "scrolled": false
   },
   "outputs": [
    {
     "data": {
      "text/html": [
       "<div>\n",
       "<style scoped>\n",
       "    .dataframe tbody tr th:only-of-type {\n",
       "        vertical-align: middle;\n",
       "    }\n",
       "\n",
       "    .dataframe tbody tr th {\n",
       "        vertical-align: top;\n",
       "    }\n",
       "\n",
       "    .dataframe thead th {\n",
       "        text-align: right;\n",
       "    }\n",
       "</style>\n",
       "<table border=\"1\" class=\"dataframe\">\n",
       "  <thead>\n",
       "    <tr style=\"text-align: right;\">\n",
       "      <th></th>\n",
       "      <th>지역구</th>\n",
       "      <th>통근</th>\n",
       "      <th>통학</th>\n",
       "      <th>합계</th>\n",
       "    </tr>\n",
       "  </thead>\n",
       "  <tbody>\n",
       "    <tr>\n",
       "      <th>0</th>\n",
       "      <td>종로구</td>\n",
       "      <td>347</td>\n",
       "      <td>61</td>\n",
       "      <td>408</td>\n",
       "    </tr>\n",
       "    <tr>\n",
       "      <th>1</th>\n",
       "      <td>중구</td>\n",
       "      <td>285</td>\n",
       "      <td>37</td>\n",
       "      <td>322</td>\n",
       "    </tr>\n",
       "    <tr>\n",
       "      <th>2</th>\n",
       "      <td>용산구</td>\n",
       "      <td>489</td>\n",
       "      <td>78</td>\n",
       "      <td>567</td>\n",
       "    </tr>\n",
       "    <tr>\n",
       "      <th>3</th>\n",
       "      <td>성동구</td>\n",
       "      <td>2609</td>\n",
       "      <td>795</td>\n",
       "      <td>3404</td>\n",
       "    </tr>\n",
       "    <tr>\n",
       "      <th>4</th>\n",
       "      <td>광진구</td>\n",
       "      <td>3886</td>\n",
       "      <td>1213</td>\n",
       "      <td>5099</td>\n",
       "    </tr>\n",
       "  </tbody>\n",
       "</table>\n",
       "</div>"
      ],
      "text/plain": [
       "   지역구    통근    통학    합계\n",
       "0  종로구   347    61   408\n",
       "1   중구   285    37   322\n",
       "2  용산구   489    78   567\n",
       "3  성동구  2609   795  3404\n",
       "4  광진구  3886  1213  5099"
      ]
     },
     "execution_count": 2,
     "metadata": {},
     "output_type": "execute_result"
    }
   ],
   "source": [
    "commute = pd.read_csv('data/통근통학 수단 자전거.csv', encoding = 'CP949')\n",
    "commute.head()"
   ]
  },
  {
   "cell_type": "code",
   "execution_count": 3,
   "metadata": {},
   "outputs": [
    {
     "data": {
      "text/plain": [
       "(25, 4)"
      ]
     },
     "execution_count": 3,
     "metadata": {},
     "output_type": "execute_result"
    }
   ],
   "source": [
    "commute.shape"
   ]
  },
  {
   "cell_type": "code",
   "execution_count": 4,
   "metadata": {},
   "outputs": [
    {
     "name": "stdout",
     "output_type": "stream",
     "text": [
      "<class 'pandas.core.frame.DataFrame'>\n",
      "RangeIndex: 25 entries, 0 to 24\n",
      "Data columns (total 4 columns):\n",
      " #   Column  Non-Null Count  Dtype \n",
      "---  ------  --------------  ----- \n",
      " 0   지역구     25 non-null     object\n",
      " 1   통근      25 non-null     int64 \n",
      " 2   통학      25 non-null     int64 \n",
      " 3   합계      25 non-null     int64 \n",
      "dtypes: int64(3), object(1)\n",
      "memory usage: 928.0+ bytes\n"
     ]
    }
   ],
   "source": [
    "commute.info()"
   ]
  },
  {
   "cell_type": "code",
   "execution_count": 5,
   "metadata": {},
   "outputs": [
    {
     "data": {
      "text/html": [
       "<div>\n",
       "<style scoped>\n",
       "    .dataframe tbody tr th:only-of-type {\n",
       "        vertical-align: middle;\n",
       "    }\n",
       "\n",
       "    .dataframe tbody tr th {\n",
       "        vertical-align: top;\n",
       "    }\n",
       "\n",
       "    .dataframe thead th {\n",
       "        text-align: right;\n",
       "    }\n",
       "</style>\n",
       "<table border=\"1\" class=\"dataframe\">\n",
       "  <thead>\n",
       "    <tr style=\"text-align: right;\">\n",
       "      <th></th>\n",
       "      <th>통근</th>\n",
       "    </tr>\n",
       "    <tr>\n",
       "      <th>지역구</th>\n",
       "      <th></th>\n",
       "    </tr>\n",
       "  </thead>\n",
       "  <tbody>\n",
       "    <tr>\n",
       "      <th>강남구</th>\n",
       "      <td>1335</td>\n",
       "    </tr>\n",
       "    <tr>\n",
       "      <th>강동구</th>\n",
       "      <td>4028</td>\n",
       "    </tr>\n",
       "    <tr>\n",
       "      <th>강북구</th>\n",
       "      <td>1233</td>\n",
       "    </tr>\n",
       "    <tr>\n",
       "      <th>강서구</th>\n",
       "      <td>2748</td>\n",
       "    </tr>\n",
       "    <tr>\n",
       "      <th>관악구</th>\n",
       "      <td>1437</td>\n",
       "    </tr>\n",
       "    <tr>\n",
       "      <th>광진구</th>\n",
       "      <td>3886</td>\n",
       "    </tr>\n",
       "    <tr>\n",
       "      <th>구로구</th>\n",
       "      <td>2297</td>\n",
       "    </tr>\n",
       "    <tr>\n",
       "      <th>금천구</th>\n",
       "      <td>1078</td>\n",
       "    </tr>\n",
       "    <tr>\n",
       "      <th>노원구</th>\n",
       "      <td>3343</td>\n",
       "    </tr>\n",
       "    <tr>\n",
       "      <th>도봉구</th>\n",
       "      <td>1801</td>\n",
       "    </tr>\n",
       "    <tr>\n",
       "      <th>동대문구</th>\n",
       "      <td>2613</td>\n",
       "    </tr>\n",
       "    <tr>\n",
       "      <th>동작구</th>\n",
       "      <td>863</td>\n",
       "    </tr>\n",
       "    <tr>\n",
       "      <th>마포구</th>\n",
       "      <td>2210</td>\n",
       "    </tr>\n",
       "    <tr>\n",
       "      <th>서대문구</th>\n",
       "      <td>973</td>\n",
       "    </tr>\n",
       "    <tr>\n",
       "      <th>서초구</th>\n",
       "      <td>792</td>\n",
       "    </tr>\n",
       "    <tr>\n",
       "      <th>성동구</th>\n",
       "      <td>2609</td>\n",
       "    </tr>\n",
       "    <tr>\n",
       "      <th>성북구</th>\n",
       "      <td>1334</td>\n",
       "    </tr>\n",
       "    <tr>\n",
       "      <th>송파구</th>\n",
       "      <td>5892</td>\n",
       "    </tr>\n",
       "    <tr>\n",
       "      <th>양천구</th>\n",
       "      <td>2826</td>\n",
       "    </tr>\n",
       "    <tr>\n",
       "      <th>영등포구</th>\n",
       "      <td>2734</td>\n",
       "    </tr>\n",
       "    <tr>\n",
       "      <th>용산구</th>\n",
       "      <td>489</td>\n",
       "    </tr>\n",
       "    <tr>\n",
       "      <th>은평구</th>\n",
       "      <td>2431</td>\n",
       "    </tr>\n",
       "    <tr>\n",
       "      <th>종로구</th>\n",
       "      <td>347</td>\n",
       "    </tr>\n",
       "    <tr>\n",
       "      <th>중구</th>\n",
       "      <td>285</td>\n",
       "    </tr>\n",
       "    <tr>\n",
       "      <th>중랑구</th>\n",
       "      <td>2993</td>\n",
       "    </tr>\n",
       "  </tbody>\n",
       "</table>\n",
       "</div>"
      ],
      "text/plain": [
       "        통근\n",
       "지역구       \n",
       "강남구   1335\n",
       "강동구   4028\n",
       "강북구   1233\n",
       "강서구   2748\n",
       "관악구   1437\n",
       "광진구   3886\n",
       "구로구   2297\n",
       "금천구   1078\n",
       "노원구   3343\n",
       "도봉구   1801\n",
       "동대문구  2613\n",
       "동작구    863\n",
       "마포구   2210\n",
       "서대문구   973\n",
       "서초구    792\n",
       "성동구   2609\n",
       "성북구   1334\n",
       "송파구   5892\n",
       "양천구   2826\n",
       "영등포구  2734\n",
       "용산구    489\n",
       "은평구   2431\n",
       "종로구    347\n",
       "중구     285\n",
       "중랑구   2993"
      ]
     },
     "execution_count": 5,
     "metadata": {},
     "output_type": "execute_result"
    }
   ],
   "source": [
    "to_commute = commute.groupby(['지역구'])[['통근']].agg('sum')\n",
    "to_commute"
   ]
  },
  {
   "cell_type": "code",
   "execution_count": 6,
   "metadata": {},
   "outputs": [
    {
     "data": {
      "image/png": "[encoded data removed]",
      "text/plain": [
       "<Figure size 1296x360 with 1 Axes>"
      ]
     },
     "metadata": {
      "needs_background": "light"
     },
     "output_type": "display_data"
    }
   ],
   "source": [
    "company = commute.groupby(['지역구'])[['통근']].agg('sum')\n",
    "ax = company.plot(kind='bar', figsize=(18, 5), rot=0, title=\"지역구별 자전거 통근 수\")\n",
    "for p in ax.patches: \n",
    "    left, bottom, width, height = p.get_bbox().bounds \n",
    "    ax.annotate(\"%d\"%(height), (left+width/2, height+2), ha='center')\n",
    "plt.box(False)\n",
    "plt.xlabel('')\n",
    "plt.tight_layout()\n",
    "plt.show()"
   ]
  },
  {
   "cell_type": "code",
   "execution_count": 7,
   "metadata": {},
   "outputs": [
    {
     "data": {
      "image/png": "[encoded data removed]",
      "text/plain": [
       "<Figure size 1296x360 with 1 Axes>"
      ]
     },
     "metadata": {
      "needs_background": "light"
     },
     "output_type": "display_data"
    }
   ],
   "source": [
    "school = commute.groupby(['지역구'])[['통학']].agg('sum')\n",
    "ax = school.plot(kind='bar', figsize=(18, 5), rot=0, title=\"지역구별 자전거 통학 수\")\n",
    "for p in ax.patches: \n",
    "    left, bottom, width, height = p.get_bbox().bounds \n",
    "    ax.annotate(\"%d\"%(height), (left+width/2, height+2), ha='center')\n",
    "plt.box(False)\n",
    "plt.xlabel('')\n",
    "plt.tight_layout()\n",
    "plt.show()"
   ]
  },
  {
   "cell_type": "code",
   "execution_count": 8,
   "metadata": {},
   "outputs": [
    {
     "data": {
      "image/png": "[encoded data removed]",
      "text/plain": [
       "<Figure size 1296x360 with 1 Axes>"
      ]
     },
     "metadata": {
      "needs_background": "light"
     },
     "output_type": "display_data"
    }
   ],
   "source": [
    "commute_sum = commute.groupby(['지역구'])[['합계']].agg('sum')\n",
    "ax = commute_sum.plot(kind='bar', figsize=(18, 5), rot=0, title=\"지역구별 자전거 통근+통학 수\")\n",
    "for p in ax.patches: \n",
    "    left, bottom, width, height = p.get_bbox().bounds \n",
    "    ax.annotate(\"%d\"%(height), (left+width/2, height+2), ha='center')\n",
    "plt.box(False)\n",
    "plt.xlabel('')\n",
    "plt.tight_layout()\n",
    "plt.show()"
   ]
  },
  {
   "cell_type": "code",
   "execution_count": 9,
   "metadata": {
    "scrolled": true
   },
   "outputs": [
    {
     "data": {
      "text/html": [
       "<div>\n",
       "<style scoped>\n",
       "    .dataframe tbody tr th:only-of-type {\n",
       "        vertical-align: middle;\n",
       "    }\n",
       "\n",
       "    .dataframe tbody tr th {\n",
       "        vertical-align: top;\n",
       "    }\n",
       "\n",
       "    .dataframe thead th {\n",
       "        text-align: right;\n",
       "    }\n",
       "</style>\n",
       "<table border=\"1\" class=\"dataframe\">\n",
       "  <thead>\n",
       "    <tr style=\"text-align: right;\">\n",
       "      <th></th>\n",
       "      <th>사고다발지FID</th>\n",
       "      <th>사고다발지ID</th>\n",
       "      <th>법정동코드</th>\n",
       "      <th>지점코드</th>\n",
       "      <th>시도시군구명</th>\n",
       "      <th>지점명</th>\n",
       "      <th>발생건수</th>\n",
       "      <th>사상자수</th>\n",
       "      <th>사망자수</th>\n",
       "      <th>중상자수</th>\n",
       "      <th>경상자수</th>\n",
       "      <th>부상신고자수</th>\n",
       "      <th>경도</th>\n",
       "      <th>위도</th>\n",
       "      <th>다발지역폴리곤</th>\n",
       "    </tr>\n",
       "  </thead>\n",
       "  <tbody>\n",
       "    <tr>\n",
       "      <th>0</th>\n",
       "      <td>161,307</td>\n",
       "      <td>2013099</td>\n",
       "      <td>1111013400</td>\n",
       "      <td>11110001</td>\n",
       "      <td>서울특별시 종로구1</td>\n",
       "      <td>서울특별시 종로구 경운동(안국역 부근)</td>\n",
       "      <td>4</td>\n",
       "      <td>4</td>\n",
       "      <td>0</td>\n",
       "      <td>0</td>\n",
       "      <td>3</td>\n",
       "      <td>1</td>\n",
       "      <td>126.985544</td>\n",
       "      <td>37.576533</td>\n",
       "      <td>{\"type\":\"Polygon\",\"coordinates\":[[[126.9871445...</td>\n",
       "    </tr>\n",
       "    <tr>\n",
       "      <th>1</th>\n",
       "      <td>153,927</td>\n",
       "      <td>2013099</td>\n",
       "      <td>1111012300</td>\n",
       "      <td>11110002</td>\n",
       "      <td>서울특별시 종로구2</td>\n",
       "      <td>서울특별시 종로구 서린동(SK빌딩 부근)</td>\n",
       "      <td>4</td>\n",
       "      <td>4</td>\n",
       "      <td>0</td>\n",
       "      <td>1</td>\n",
       "      <td>2</td>\n",
       "      <td>1</td>\n",
       "      <td>126.981070</td>\n",
       "      <td>37.570279</td>\n",
       "      <td>{\"type\":\"Polygon\",\"coordinates\":[[[126.9826705...</td>\n",
       "    </tr>\n",
       "    <tr>\n",
       "      <th>2</th>\n",
       "      <td>153,929</td>\n",
       "      <td>2013099</td>\n",
       "      <td>1111017500</td>\n",
       "      <td>11110003</td>\n",
       "      <td>서울특별시 종로구3</td>\n",
       "      <td>서울특별시 종로구 숭인동(동묘앞역_일반국도6호선_진출 부근)</td>\n",
       "      <td>5</td>\n",
       "      <td>5</td>\n",
       "      <td>0</td>\n",
       "      <td>2</td>\n",
       "      <td>2</td>\n",
       "      <td>1</td>\n",
       "      <td>127.015243</td>\n",
       "      <td>37.572994</td>\n",
       "      <td>{\"type\":\"Polygon\",\"coordinates\":[[[127.0168437...</td>\n",
       "    </tr>\n",
       "    <tr>\n",
       "      <th>3</th>\n",
       "      <td>139,637</td>\n",
       "      <td>2013099</td>\n",
       "      <td>1114016300</td>\n",
       "      <td>11140001</td>\n",
       "      <td>서울특별시 중구1</td>\n",
       "      <td>서울특별시 중구 흥인동(다산교(남단) 부근)</td>\n",
       "      <td>4</td>\n",
       "      <td>4</td>\n",
       "      <td>0</td>\n",
       "      <td>1</td>\n",
       "      <td>2</td>\n",
       "      <td>1</td>\n",
       "      <td>127.015435</td>\n",
       "      <td>37.569714</td>\n",
       "      <td>{\"type\":\"Polygon\",\"coordinates\":[[[127.017036,...</td>\n",
       "    </tr>\n",
       "    <tr>\n",
       "      <th>4</th>\n",
       "      <td>153,931</td>\n",
       "      <td>2013099</td>\n",
       "      <td>1117012800</td>\n",
       "      <td>11170001</td>\n",
       "      <td>서울특별시 용산구1</td>\n",
       "      <td>서울특별시 용산구 한강로3가(용산대우드림월드3차_한강로_진 부근)</td>\n",
       "      <td>5</td>\n",
       "      <td>5</td>\n",
       "      <td>0</td>\n",
       "      <td>3</td>\n",
       "      <td>2</td>\n",
       "      <td>0</td>\n",
       "      <td>126.961790</td>\n",
       "      <td>37.522868</td>\n",
       "      <td>{\"type\":\"Polygon\",\"coordinates\":[[[126.9633901...</td>\n",
       "    </tr>\n",
       "  </tbody>\n",
       "</table>\n",
       "</div>"
      ],
      "text/plain": [
       "  사고다발지FID  사고다발지ID       법정동코드      지점코드      시도시군구명  \\\n",
       "0  161,307  2013099  1111013400  11110001  서울특별시 종로구1   \n",
       "1  153,927  2013099  1111012300  11110002  서울특별시 종로구2   \n",
       "2  153,929  2013099  1111017500  11110003  서울특별시 종로구3   \n",
       "3  139,637  2013099  1114016300  11140001   서울특별시 중구1   \n",
       "4  153,931  2013099  1117012800  11170001  서울특별시 용산구1   \n",
       "\n",
       "                                    지점명  발생건수  사상자수  사망자수  중상자수  경상자수  부상신고자수  \\\n",
       "0                 서울특별시 종로구 경운동(안국역 부근)     4     4     0     0     3       1   \n",
       "1                서울특별시 종로구 서린동(SK빌딩 부근)     4     4     0     1     2       1   \n",
       "2     서울특별시 종로구 숭인동(동묘앞역_일반국도6호선_진출 부근)     5     5     0     2     2       1   \n",
       "3              서울특별시 중구 흥인동(다산교(남단) 부근)     4     4     0     1     2       1   \n",
       "4  서울특별시 용산구 한강로3가(용산대우드림월드3차_한강로_진 부근)     5     5     0     3     2       0   \n",
       "\n",
       "           경도         위도                                            다발지역폴리곤  \n",
       "0  126.985544  37.576533  {\"type\":\"Polygon\",\"coordinates\":[[[126.9871445...  \n",
       "1  126.981070  37.570279  {\"type\":\"Polygon\",\"coordinates\":[[[126.9826705...  \n",
       "2  127.015243  37.572994  {\"type\":\"Polygon\",\"coordinates\":[[[127.0168437...  \n",
       "3  127.015435  37.569714  {\"type\":\"Polygon\",\"coordinates\":[[[127.017036,...  \n",
       "4  126.961790  37.522868  {\"type\":\"Polygon\",\"coordinates\":[[[126.9633901...  "
      ]
     },
     "execution_count": 9,
     "metadata": {},
     "output_type": "execute_result"
    }
   ],
   "source": [
    "accident = pd.read_csv('data/자전거사고다발지역정보.csv', encoding = 'CP949')\n",
    "accident.head()"
   ]
  },
  {
   "cell_type": "code",
   "execution_count": 10,
   "metadata": {},
   "outputs": [
    {
     "data": {
      "text/plain": [
       "(2718, 15)"
      ]
     },
     "execution_count": 10,
     "metadata": {},
     "output_type": "execute_result"
    }
   ],
   "source": [
    "accident.shape"
   ]
  },
  {
   "cell_type": "code",
   "execution_count": 11,
   "metadata": {},
   "outputs": [
    {
     "data": {
      "text/html": [
       "<div>\n",
       "<style scoped>\n",
       "    .dataframe tbody tr th:only-of-type {\n",
       "        vertical-align: middle;\n",
       "    }\n",
       "\n",
       "    .dataframe tbody tr th {\n",
       "        vertical-align: top;\n",
       "    }\n",
       "\n",
       "    .dataframe thead th {\n",
       "        text-align: right;\n",
       "    }\n",
       "</style>\n",
       "<table border=\"1\" class=\"dataframe\">\n",
       "  <thead>\n",
       "    <tr style=\"text-align: right;\">\n",
       "      <th></th>\n",
       "      <th>사고다발지FID</th>\n",
       "      <th>사고다발지ID</th>\n",
       "      <th>법정동코드</th>\n",
       "      <th>지점코드</th>\n",
       "      <th>시도시군구명</th>\n",
       "      <th>지점명</th>\n",
       "      <th>발생건수</th>\n",
       "      <th>사상자수</th>\n",
       "      <th>사망자수</th>\n",
       "      <th>중상자수</th>\n",
       "      <th>경상자수</th>\n",
       "      <th>부상신고자수</th>\n",
       "      <th>경도</th>\n",
       "      <th>위도</th>\n",
       "      <th>다발지역폴리곤</th>\n",
       "    </tr>\n",
       "  </thead>\n",
       "  <tbody>\n",
       "    <tr>\n",
       "      <th>0</th>\n",
       "      <td>161,307</td>\n",
       "      <td>2013099</td>\n",
       "      <td>1111013400</td>\n",
       "      <td>11110001</td>\n",
       "      <td>서울특별시 종로구1</td>\n",
       "      <td>서울특별시 종로구 경운동(안국역 부근)</td>\n",
       "      <td>4</td>\n",
       "      <td>4</td>\n",
       "      <td>0</td>\n",
       "      <td>0</td>\n",
       "      <td>3</td>\n",
       "      <td>1</td>\n",
       "      <td>126.985544</td>\n",
       "      <td>37.576533</td>\n",
       "      <td>{\"type\":\"Polygon\",\"coordinates\":[[[126.9871445...</td>\n",
       "    </tr>\n",
       "    <tr>\n",
       "      <th>1</th>\n",
       "      <td>153,927</td>\n",
       "      <td>2013099</td>\n",
       "      <td>1111012300</td>\n",
       "      <td>11110002</td>\n",
       "      <td>서울특별시 종로구2</td>\n",
       "      <td>서울특별시 종로구 서린동(SK빌딩 부근)</td>\n",
       "      <td>4</td>\n",
       "      <td>4</td>\n",
       "      <td>0</td>\n",
       "      <td>1</td>\n",
       "      <td>2</td>\n",
       "      <td>1</td>\n",
       "      <td>126.981070</td>\n",
       "      <td>37.570279</td>\n",
       "      <td>{\"type\":\"Polygon\",\"coordinates\":[[[126.9826705...</td>\n",
       "    </tr>\n",
       "    <tr>\n",
       "      <th>2</th>\n",
       "      <td>153,929</td>\n",
       "      <td>2013099</td>\n",
       "      <td>1111017500</td>\n",
       "      <td>11110003</td>\n",
       "      <td>서울특별시 종로구3</td>\n",
       "      <td>서울특별시 종로구 숭인동(동묘앞역_일반국도6호선_진출 부근)</td>\n",
       "      <td>5</td>\n",
       "      <td>5</td>\n",
       "      <td>0</td>\n",
       "      <td>2</td>\n",
       "      <td>2</td>\n",
       "      <td>1</td>\n",
       "      <td>127.015243</td>\n",
       "      <td>37.572994</td>\n",
       "      <td>{\"type\":\"Polygon\",\"coordinates\":[[[127.0168437...</td>\n",
       "    </tr>\n",
       "    <tr>\n",
       "      <th>3</th>\n",
       "      <td>139,637</td>\n",
       "      <td>2013099</td>\n",
       "      <td>1114016300</td>\n",
       "      <td>11140001</td>\n",
       "      <td>서울특별시 중구1</td>\n",
       "      <td>서울특별시 중구 흥인동(다산교(남단) 부근)</td>\n",
       "      <td>4</td>\n",
       "      <td>4</td>\n",
       "      <td>0</td>\n",
       "      <td>1</td>\n",
       "      <td>2</td>\n",
       "      <td>1</td>\n",
       "      <td>127.015435</td>\n",
       "      <td>37.569714</td>\n",
       "      <td>{\"type\":\"Polygon\",\"coordinates\":[[[127.017036,...</td>\n",
       "    </tr>\n",
       "    <tr>\n",
       "      <th>4</th>\n",
       "      <td>153,931</td>\n",
       "      <td>2013099</td>\n",
       "      <td>1117012800</td>\n",
       "      <td>11170001</td>\n",
       "      <td>서울특별시 용산구1</td>\n",
       "      <td>서울특별시 용산구 한강로3가(용산대우드림월드3차_한강로_진 부근)</td>\n",
       "      <td>5</td>\n",
       "      <td>5</td>\n",
       "      <td>0</td>\n",
       "      <td>3</td>\n",
       "      <td>2</td>\n",
       "      <td>0</td>\n",
       "      <td>126.961790</td>\n",
       "      <td>37.522868</td>\n",
       "      <td>{\"type\":\"Polygon\",\"coordinates\":[[[126.9633901...</td>\n",
       "    </tr>\n",
       "  </tbody>\n",
       "</table>\n",
       "</div>"
      ],
      "text/plain": [
       "  사고다발지FID  사고다발지ID       법정동코드      지점코드      시도시군구명  \\\n",
       "0  161,307  2013099  1111013400  11110001  서울특별시 종로구1   \n",
       "1  153,927  2013099  1111012300  11110002  서울특별시 종로구2   \n",
       "2  153,929  2013099  1111017500  11110003  서울특별시 종로구3   \n",
       "3  139,637  2013099  1114016300  11140001   서울특별시 중구1   \n",
       "4  153,931  2013099  1117012800  11170001  서울특별시 용산구1   \n",
       "\n",
       "                                    지점명  발생건수  사상자수  사망자수  중상자수  경상자수  부상신고자수  \\\n",
       "0                 서울특별시 종로구 경운동(안국역 부근)     4     4     0     0     3       1   \n",
       "1                서울특별시 종로구 서린동(SK빌딩 부근)     4     4     0     1     2       1   \n",
       "2     서울특별시 종로구 숭인동(동묘앞역_일반국도6호선_진출 부근)     5     5     0     2     2       1   \n",
       "3              서울특별시 중구 흥인동(다산교(남단) 부근)     4     4     0     1     2       1   \n",
       "4  서울특별시 용산구 한강로3가(용산대우드림월드3차_한강로_진 부근)     5     5     0     3     2       0   \n",
       "\n",
       "           경도         위도                                            다발지역폴리곤  \n",
       "0  126.985544  37.576533  {\"type\":\"Polygon\",\"coordinates\":[[[126.9871445...  \n",
       "1  126.981070  37.570279  {\"type\":\"Polygon\",\"coordinates\":[[[126.9826705...  \n",
       "2  127.015243  37.572994  {\"type\":\"Polygon\",\"coordinates\":[[[127.0168437...  \n",
       "3  127.015435  37.569714  {\"type\":\"Polygon\",\"coordinates\":[[[127.017036,...  \n",
       "4  126.961790  37.522868  {\"type\":\"Polygon\",\"coordinates\":[[[126.9633901...  "
      ]
     },
     "execution_count": 11,
     "metadata": {},
     "output_type": "execute_result"
    }
   ],
   "source": [
    "accident_seoul = accident.loc[accident['시도시군구명'].str.contains('서울특별시')]\n",
    "accident_seoul.head()"
   ]
  },
  {
   "cell_type": "code",
   "execution_count": 12,
   "metadata": {},
   "outputs": [
    {
     "data": {
      "text/html": [
       "<div>\n",
       "<style scoped>\n",
       "    .dataframe tbody tr th:only-of-type {\n",
       "        vertical-align: middle;\n",
       "    }\n",
       "\n",
       "    .dataframe tbody tr th {\n",
       "        vertical-align: top;\n",
       "    }\n",
       "\n",
       "    .dataframe thead th {\n",
       "        text-align: right;\n",
       "    }\n",
       "</style>\n",
       "<table border=\"1\" class=\"dataframe\">\n",
       "  <thead>\n",
       "    <tr style=\"text-align: right;\">\n",
       "      <th></th>\n",
       "      <th>사고다발지FID</th>\n",
       "      <th>사고다발지ID</th>\n",
       "      <th>법정동코드</th>\n",
       "      <th>지점코드</th>\n",
       "      <th>시도시군구명</th>\n",
       "      <th>지점명</th>\n",
       "      <th>발생건수</th>\n",
       "      <th>사상자수</th>\n",
       "      <th>사망자수</th>\n",
       "      <th>중상자수</th>\n",
       "      <th>경상자수</th>\n",
       "      <th>부상신고자수</th>\n",
       "      <th>경도</th>\n",
       "      <th>위도</th>\n",
       "      <th>지역구</th>\n",
       "    </tr>\n",
       "  </thead>\n",
       "  <tbody>\n",
       "    <tr>\n",
       "      <th>0</th>\n",
       "      <td>161,307</td>\n",
       "      <td>2013099</td>\n",
       "      <td>1111013400</td>\n",
       "      <td>11110001</td>\n",
       "      <td>서울특별시 종로구1</td>\n",
       "      <td>서울특별시 종로구 경운동(안국역 부근)</td>\n",
       "      <td>4</td>\n",
       "      <td>4</td>\n",
       "      <td>0</td>\n",
       "      <td>0</td>\n",
       "      <td>3</td>\n",
       "      <td>1</td>\n",
       "      <td>126.985544</td>\n",
       "      <td>37.576533</td>\n",
       "      <td>종로구</td>\n",
       "    </tr>\n",
       "    <tr>\n",
       "      <th>1</th>\n",
       "      <td>153,927</td>\n",
       "      <td>2013099</td>\n",
       "      <td>1111012300</td>\n",
       "      <td>11110002</td>\n",
       "      <td>서울특별시 종로구2</td>\n",
       "      <td>서울특별시 종로구 서린동(SK빌딩 부근)</td>\n",
       "      <td>4</td>\n",
       "      <td>4</td>\n",
       "      <td>0</td>\n",
       "      <td>1</td>\n",
       "      <td>2</td>\n",
       "      <td>1</td>\n",
       "      <td>126.981070</td>\n",
       "      <td>37.570279</td>\n",
       "      <td>종로구</td>\n",
       "    </tr>\n",
       "    <tr>\n",
       "      <th>2</th>\n",
       "      <td>153,929</td>\n",
       "      <td>2013099</td>\n",
       "      <td>1111017500</td>\n",
       "      <td>11110003</td>\n",
       "      <td>서울특별시 종로구3</td>\n",
       "      <td>서울특별시 종로구 숭인동(동묘앞역_일반국도6호선_진출 부근)</td>\n",
       "      <td>5</td>\n",
       "      <td>5</td>\n",
       "      <td>0</td>\n",
       "      <td>2</td>\n",
       "      <td>2</td>\n",
       "      <td>1</td>\n",
       "      <td>127.015243</td>\n",
       "      <td>37.572994</td>\n",
       "      <td>종로구</td>\n",
       "    </tr>\n",
       "    <tr>\n",
       "      <th>3</th>\n",
       "      <td>139,637</td>\n",
       "      <td>2013099</td>\n",
       "      <td>1114016300</td>\n",
       "      <td>11140001</td>\n",
       "      <td>서울특별시 중구1</td>\n",
       "      <td>서울특별시 중구 흥인동(다산교(남단) 부근)</td>\n",
       "      <td>4</td>\n",
       "      <td>4</td>\n",
       "      <td>0</td>\n",
       "      <td>1</td>\n",
       "      <td>2</td>\n",
       "      <td>1</td>\n",
       "      <td>127.015435</td>\n",
       "      <td>37.569714</td>\n",
       "      <td>중구</td>\n",
       "    </tr>\n",
       "    <tr>\n",
       "      <th>4</th>\n",
       "      <td>153,931</td>\n",
       "      <td>2013099</td>\n",
       "      <td>1117012800</td>\n",
       "      <td>11170001</td>\n",
       "      <td>서울특별시 용산구1</td>\n",
       "      <td>서울특별시 용산구 한강로3가(용산대우드림월드3차_한강로_진 부근)</td>\n",
       "      <td>5</td>\n",
       "      <td>5</td>\n",
       "      <td>0</td>\n",
       "      <td>3</td>\n",
       "      <td>2</td>\n",
       "      <td>0</td>\n",
       "      <td>126.961790</td>\n",
       "      <td>37.522868</td>\n",
       "      <td>용산구</td>\n",
       "    </tr>\n",
       "  </tbody>\n",
       "</table>\n",
       "</div>"
      ],
      "text/plain": [
       "  사고다발지FID  사고다발지ID       법정동코드      지점코드      시도시군구명  \\\n",
       "0  161,307  2013099  1111013400  11110001  서울특별시 종로구1   \n",
       "1  153,927  2013099  1111012300  11110002  서울특별시 종로구2   \n",
       "2  153,929  2013099  1111017500  11110003  서울특별시 종로구3   \n",
       "3  139,637  2013099  1114016300  11140001   서울특별시 중구1   \n",
       "4  153,931  2013099  1117012800  11170001  서울특별시 용산구1   \n",
       "\n",
       "                                    지점명  발생건수  사상자수  사망자수  중상자수  경상자수  부상신고자수  \\\n",
       "0                 서울특별시 종로구 경운동(안국역 부근)     4     4     0     0     3       1   \n",
       "1                서울특별시 종로구 서린동(SK빌딩 부근)     4     4     0     1     2       1   \n",
       "2     서울특별시 종로구 숭인동(동묘앞역_일반국도6호선_진출 부근)     5     5     0     2     2       1   \n",
       "3              서울특별시 중구 흥인동(다산교(남단) 부근)     4     4     0     1     2       1   \n",
       "4  서울특별시 용산구 한강로3가(용산대우드림월드3차_한강로_진 부근)     5     5     0     3     2       0   \n",
       "\n",
       "           경도         위도  지역구  \n",
       "0  126.985544  37.576533  종로구  \n",
       "1  126.981070  37.570279  종로구  \n",
       "2  127.015243  37.572994  종로구  \n",
       "3  127.015435  37.569714   중구  \n",
       "4  126.961790  37.522868  용산구  "
      ]
     },
     "execution_count": 12,
     "metadata": {},
     "output_type": "execute_result"
    }
   ],
   "source": [
    "accident_seoul['지역구']=accident['지점명'].str.split(\" \").str[1]\n",
    "accident_seoul=accident_seoul.drop(['다발지역폴리곤'], axis='columns')\n",
    "accident_seoul.head()"
   ]
  },
  {
   "cell_type": "code",
   "execution_count": 13,
   "metadata": {},
   "outputs": [
    {
     "data": {
      "text/html": [
       "<div>\n",
       "<style scoped>\n",
       "    .dataframe tbody tr th:only-of-type {\n",
       "        vertical-align: middle;\n",
       "    }\n",
       "\n",
       "    .dataframe tbody tr th {\n",
       "        vertical-align: top;\n",
       "    }\n",
       "\n",
       "    .dataframe thead th {\n",
       "        text-align: right;\n",
       "    }\n",
       "</style>\n",
       "<table border=\"1\" class=\"dataframe\">\n",
       "  <thead>\n",
       "    <tr style=\"text-align: right;\">\n",
       "      <th></th>\n",
       "      <th>발생건수</th>\n",
       "    </tr>\n",
       "    <tr>\n",
       "      <th>지역구</th>\n",
       "      <th></th>\n",
       "    </tr>\n",
       "  </thead>\n",
       "  <tbody>\n",
       "    <tr>\n",
       "      <th>강남구</th>\n",
       "      <td>81</td>\n",
       "    </tr>\n",
       "    <tr>\n",
       "      <th>강동구</th>\n",
       "      <td>308</td>\n",
       "    </tr>\n",
       "    <tr>\n",
       "      <th>강북구</th>\n",
       "      <td>182</td>\n",
       "    </tr>\n",
       "    <tr>\n",
       "      <th>강서구</th>\n",
       "      <td>161</td>\n",
       "    </tr>\n",
       "    <tr>\n",
       "      <th>관악구</th>\n",
       "      <td>136</td>\n",
       "    </tr>\n",
       "    <tr>\n",
       "      <th>광진구</th>\n",
       "      <td>318</td>\n",
       "    </tr>\n",
       "    <tr>\n",
       "      <th>구로구</th>\n",
       "      <td>269</td>\n",
       "    </tr>\n",
       "    <tr>\n",
       "      <th>금천구</th>\n",
       "      <td>101</td>\n",
       "    </tr>\n",
       "    <tr>\n",
       "      <th>노원구</th>\n",
       "      <td>228</td>\n",
       "    </tr>\n",
       "    <tr>\n",
       "      <th>도봉구</th>\n",
       "      <td>196</td>\n",
       "    </tr>\n",
       "    <tr>\n",
       "      <th>동대문구</th>\n",
       "      <td>531</td>\n",
       "    </tr>\n",
       "    <tr>\n",
       "      <th>동작구</th>\n",
       "      <td>152</td>\n",
       "    </tr>\n",
       "    <tr>\n",
       "      <th>마포구</th>\n",
       "      <td>133</td>\n",
       "    </tr>\n",
       "    <tr>\n",
       "      <th>서대문구</th>\n",
       "      <td>37</td>\n",
       "    </tr>\n",
       "    <tr>\n",
       "      <th>서초구</th>\n",
       "      <td>56</td>\n",
       "    </tr>\n",
       "    <tr>\n",
       "      <th>성동구</th>\n",
       "      <td>202</td>\n",
       "    </tr>\n",
       "    <tr>\n",
       "      <th>성북구</th>\n",
       "      <td>130</td>\n",
       "    </tr>\n",
       "    <tr>\n",
       "      <th>송파구</th>\n",
       "      <td>889</td>\n",
       "    </tr>\n",
       "    <tr>\n",
       "      <th>양천구</th>\n",
       "      <td>301</td>\n",
       "    </tr>\n",
       "    <tr>\n",
       "      <th>영등포구</th>\n",
       "      <td>555</td>\n",
       "    </tr>\n",
       "    <tr>\n",
       "      <th>용산구</th>\n",
       "      <td>70</td>\n",
       "    </tr>\n",
       "    <tr>\n",
       "      <th>은평구</th>\n",
       "      <td>214</td>\n",
       "    </tr>\n",
       "    <tr>\n",
       "      <th>종로구</th>\n",
       "      <td>40</td>\n",
       "    </tr>\n",
       "    <tr>\n",
       "      <th>중구</th>\n",
       "      <td>12</td>\n",
       "    </tr>\n",
       "    <tr>\n",
       "      <th>중랑구</th>\n",
       "      <td>393</td>\n",
       "    </tr>\n",
       "  </tbody>\n",
       "</table>\n",
       "</div>"
      ],
      "text/plain": [
       "      발생건수\n",
       "지역구       \n",
       "강남구     81\n",
       "강동구    308\n",
       "강북구    182\n",
       "강서구    161\n",
       "관악구    136\n",
       "광진구    318\n",
       "구로구    269\n",
       "금천구    101\n",
       "노원구    228\n",
       "도봉구    196\n",
       "동대문구   531\n",
       "동작구    152\n",
       "마포구    133\n",
       "서대문구    37\n",
       "서초구     56\n",
       "성동구    202\n",
       "성북구    130\n",
       "송파구    889\n",
       "양천구    301\n",
       "영등포구   555\n",
       "용산구     70\n",
       "은평구    214\n",
       "종로구     40\n",
       "중구      12\n",
       "중랑구    393"
      ]
     },
     "execution_count": 13,
     "metadata": {},
     "output_type": "execute_result"
    }
   ],
   "source": [
    "accident_seoul_gu = accident_seoul.groupby(['지역구'])[['발생건수']].agg('sum')\n",
    "accident_seoul_gu"
   ]
  },
  {
   "cell_type": "code",
   "execution_count": 14,
   "metadata": {},
   "outputs": [
    {
     "data": {
      "image/png": "[encoded data removed]",
      "text/plain": [
       "<Figure size 1296x360 with 1 Axes>"
      ]
     },
     "metadata": {
      "needs_background": "light"
     },
     "output_type": "display_data"
    }
   ],
   "source": [
    "accident_seoul_gu = accident_seoul.groupby(['지역구'])[['발생건수']].agg('sum')\n",
    "\n",
    "ax = accident_seoul_gu.plot(kind='bar', figsize=(18, 5), rot=0, title=\"지역구별 자전거 사고 건수\")\n",
    "for p in ax.patches: \n",
    "    left, bottom, width, height = p.get_bbox().bounds \n",
    "    ax.annotate(\"%d\"%(height), (left+width/2, height+2), ha='center')\n",
    "plt.box(False)\n",
    "plt.tight_layout()\n",
    "\n",
    "plt.show()"
   ]
  },
  {
   "cell_type": "code",
   "execution_count": 15,
   "metadata": {
    "scrolled": true
   },
   "outputs": [
    {
     "data": {
      "image/png": "[encoded data removed]",
      "text/plain": [
       "<Figure size 1296x360 with 2 Axes>"
      ]
     },
     "metadata": {
      "needs_background": "light"
     },
     "output_type": "display_data"
    }
   ],
   "source": [
    "accident_seoul_gu = accident_seoul.groupby(['지역구'])[['발생건수']].agg('sum')\n",
    "\n",
    "ax = accident_seoul_gu.plot(kind='bar', figsize=(18, 5), rot=0, title=\"지역구별 사고건수와 통근/통학\")\n",
    "for p in ax.patches: \n",
    "    left, bottom, width, height = p.get_bbox().bounds \n",
    "    ax.annotate(\"%d\"%(height), (left+width/2, height+2), ha='center')\n",
    "plt.box(False)\n",
    "plt.tight_layout()\n",
    "\n",
    "plt.twinx() # bar 그래프와 plot 그래프 합치기\n",
    "plt.plot(company, 'r.-')\n",
    "plt.plot(school, 'b.-')\n",
    "plt.plot(commute_sum, 'g.-')\n",
    "plt.show()"
   ]
  },
  {
   "cell_type": "code",
   "execution_count": 16,
   "metadata": {},
   "outputs": [
    {
     "data": {
      "image/png": "[encoded data removed]",
      "text/plain": [
       "<Figure size 432x288 with 1 Axes>"
      ]
     },
     "metadata": {
      "needs_background": "light"
     },
     "output_type": "display_data"
    },
    {
     "data": {
      "text/plain": [
       "0.8323152377186496"
      ]
     },
     "execution_count": 16,
     "metadata": {},
     "output_type": "execute_result"
    }
   ],
   "source": [
    "#통근 상관관계 분석\n",
    "plt.scatter(accident_seoul_gu[\"발생건수\"], company[\"통근\"])\n",
    "plt.title(\"사고건수와 통근\")\n",
    "plt.show()\n",
    "accident_seoul_gu[\"발생건수\"].corr(company[\"통근\"])"
   ]
  },
  {
   "cell_type": "code",
   "execution_count": 17,
   "metadata": {},
   "outputs": [
    {
     "data": {
      "image/png": "[encoded data removed]",
      "text/plain": [
       "<Figure size 432x288 with 1 Axes>"
      ]
     },
     "metadata": {
      "needs_background": "light"
     },
     "output_type": "display_data"
    },
    {
     "data": {
      "text/plain": [
       "0.7170624241685382"
      ]
     },
     "execution_count": 17,
     "metadata": {},
     "output_type": "execute_result"
    }
   ],
   "source": [
    "#통학 상관관계 분석\n",
    "plt.scatter(accident_seoul_gu[\"발생건수\"], school[\"통학\"])\n",
    "plt.title(\"사고건수와 통학\")\n",
    "plt.show()\n",
    "accident_seoul_gu[\"발생건수\"].corr(school[\"통학\"])"
   ]
  },
  {
   "cell_type": "code",
   "execution_count": 32,
   "metadata": {},
   "outputs": [
    {
     "data": {
      "image/png": "[encoded data removed]",
      "text/plain": [
       "<Figure size 432x288 with 1 Axes>"
      ]
     },
     "metadata": {
      "needs_background": "light"
     },
     "output_type": "display_data"
    },
    {
     "data": {
      "text/plain": [
       "0.8115642738184344"
      ]
     },
     "execution_count": 32,
     "metadata": {},
     "output_type": "execute_result"
    }
   ],
   "source": [
    "#통근+통학 상관관계 분석\n",
    "plt.scatter(accident_seoul_gu[\"발생건수\"], commute_sum[\"합계\"])\n",
    "plt.title(\"사고건수와 통근+통학\")\n",
    "plt.show()\n",
    "accident_seoul_gu[\"발생건수\"].corr(commute_sum[\"합계\"])"
   ]
  }
 ],
 "metadata": {
  "kernelspec": {
   "display_name": "Python 3",
   "language": "python",
   "name": "python3"
  },
  "language_info": {
   "codemirror_mode": {
    "name": "ipython",
    "version": 3
   },
   "file_extension": ".py",
   "mimetype": "text/x-python",
   "name": "python",
   "nbconvert_exporter": "python",
   "pygments_lexer": "ipython3",
   "version": "3.7.6"
  }
 },
 "nbformat": 4,
 "nbformat_minor": 4
}
