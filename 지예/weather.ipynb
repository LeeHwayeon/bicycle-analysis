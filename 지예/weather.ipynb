{
 "cells": [
  {
   "cell_type": "code",
   "execution_count": 2,
   "metadata": {},
   "outputs": [],
   "source": [
    "from numpy import array\n",
    "from matplotlib import pyplot as plt"
   ]
  },
  {
   "cell_type": "code",
   "execution_count": 19,
   "metadata": {
    "scrolled": true
   },
   "outputs": [
    {
     "data": {
      "image/png": "[encoded data removed]",
      "text/plain": [
       "<Figure size 432x288 with 1 Axes>"
      ]
     },
     "metadata": {
      "needs_background": "light"
     },
     "output_type": "display_data"
    }
   ],
   "source": [
    "W_ = 0.5\n",
    "plt.xticks([0, 1, 2], ['2016', '2017', '2018'])\n",
    "plt.title('Weather')\n",
    "\n",
    "sun = array([1773, 1546, 1371])\n",
    "plt.bar(range(len(sun)), sun, width=W_, label='sunny')\n",
    "\n",
    "cloud = array([59, 64, 57])\n",
    "plt.bar([i for i in range(len(cloud))], cloud, width=W_, bottom=sun, label='cloudy')\n",
    "\n",
    "rain = array([36, 35, 35])\n",
    "plt.bar([i for i in range(len(rain))], rain, width=W_, bottom=sun+cloud, label='rainy')\n",
    "\n",
    "snow = array([4, 3, 1])\n",
    "plt.bar([i for i in range(len(snow))], snow, width=W_, bottom=sun+cloud+rain)\n",
    "\n",
    "acc = array([12, 8, 7])\n",
    "plt.bar([i for i in range(len(acc))], acc, width=W_, bottom=sun+cloud+rain+snow)\n",
    "\n",
    "plt.legend()\n",
    "plt.show()\n"
   ]
  },
  {
   "cell_type": "code",
   "execution_count": null,
   "metadata": {},
   "outputs": [],
   "source": []
  },
  {
   "cell_type": "code",
   "execution_count": null,
   "metadata": {},
   "outputs": [],
   "source": []
  }
 ],
 "metadata": {
  "kernelspec": {
   "display_name": "Python 3",
   "language": "python",
   "name": "python3"
  },
  "language_info": {
   "codemirror_mode": {
    "name": "ipython",
    "version": 3
   },
   "file_extension": ".py",
   "mimetype": "text/x-python",
   "name": "python",
   "nbconvert_exporter": "python",
   "pygments_lexer": "ipython3",
   "version": "3.6.10"
  }
 },
 "nbformat": 4,
 "nbformat_minor": 4
}
