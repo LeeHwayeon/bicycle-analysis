{
 "cells": [
  {
   "cell_type": "code",
   "execution_count": 1,
   "metadata": {},
   "outputs": [],
   "source": [
    "import json\n",
    "import pandas as pd\n",
    "import numpy as np\n",
    "\n",
    "import matplotlib.pyplot as plt\n",
    "import seaborn as sns\n",
    "import folium\n",
    "from folium import plugins\n",
    "import missingno as mnso\n",
    "\n",
    "import warnings\n",
    "warnings.filterwarnings('ignore')\n",
    "\n",
    "geo_path = 'data/seoul_municipalities_geo_simple.json'\n",
    "geo_str = json.load(open(geo_path, encoding='utf-8'))\n",
    "\n",
    "plt.rcParams['axes.unicode_minus'] = False\n",
    "plt.rcParams[\"font.family\"] = 'Malgun Gothic'"
   ]
  },
  {
   "cell_type": "code",
   "execution_count": 16,
   "metadata": {
    "scrolled": false
   },
   "outputs": [
    {
     "data": {
      "text/html": [
       "<div>\n",
       "<style scoped>\n",
       "    .dataframe tbody tr th:only-of-type {\n",
       "        vertical-align: middle;\n",
       "    }\n",
       "\n",
       "    .dataframe tbody tr th {\n",
       "        vertical-align: top;\n",
       "    }\n",
       "\n",
       "    .dataframe thead th {\n",
       "        text-align: right;\n",
       "    }\n",
       "</style>\n",
       "<table border=\"1\" class=\"dataframe\">\n",
       "  <thead>\n",
       "    <tr style=\"text-align: right;\">\n",
       "      <th></th>\n",
       "      <th>교차로코드</th>\n",
       "      <th>입력일자</th>\n",
       "      <th>교차로명칭</th>\n",
       "      <th>유형코드</th>\n",
       "      <th>연동교차로코드</th>\n",
       "      <th>구코드 (공통)</th>\n",
       "      <th>지번</th>\n",
       "      <th>구경찰서 (공통);</th>\n",
       "      <th>신경찰서 (공통);</th>\n",
       "      <th>작업구분 (공통);</th>\n",
       "      <th>...</th>\n",
       "      <th>계량기번호</th>\n",
       "      <th>도로구분 (공통);</th>\n",
       "      <th>관할사업소 (공통);</th>\n",
       "      <th>교차로관리번호</th>\n",
       "      <th>공간데이터</th>\n",
       "      <th>신규정규화ID</th>\n",
       "      <th>이력ID</th>\n",
       "      <th>동코드 (공통)</th>\n",
       "      <th>공사형태 (공통);</th>\n",
       "      <th>지도표출구분</th>\n",
       "    </tr>\n",
       "  </thead>\n",
       "  <tbody>\n",
       "    <tr>\n",
       "      <th>0</th>\n",
       "      <td>7130</td>\n",
       "      <td></td>\n",
       "      <td>명덕초교입구(연등)</td>\n",
       "      <td>2</td>\n",
       "      <td>2297</td>\n",
       "      <td>740</td>\n",
       "      <td>산40-3 임</td>\n",
       "      <td>310</td>\n",
       "      <td>310</td>\n",
       "      <td>1</td>\n",
       "      <td>...</td>\n",
       "      <td></td>\n",
       "      <td></td>\n",
       "      <td>106</td>\n",
       "      <td>82-0000006800</td>\n",
       "      <td>NaN</td>\n",
       "      <td>6268134</td>\n",
       "      <td>6800</td>\n",
       "      <td>10700</td>\n",
       "      <td></td>\n",
       "      <td></td>\n",
       "    </tr>\n",
       "    <tr>\n",
       "      <th>1</th>\n",
       "      <td>7132</td>\n",
       "      <td></td>\n",
       "      <td>우신고후문(연등)</td>\n",
       "      <td>1</td>\n",
       "      <td>1562</td>\n",
       "      <td>530</td>\n",
       "      <td>86-4전</td>\n",
       "      <td>330</td>\n",
       "      <td>330</td>\n",
       "      <td>1</td>\n",
       "      <td>...</td>\n",
       "      <td></td>\n",
       "      <td></td>\n",
       "      <td>104</td>\n",
       "      <td>82-0000006802</td>\n",
       "      <td>NaN</td>\n",
       "      <td>194753</td>\n",
       "      <td>6802</td>\n",
       "      <td>11000</td>\n",
       "      <td></td>\n",
       "      <td></td>\n",
       "    </tr>\n",
       "    <tr>\n",
       "      <th>2</th>\n",
       "      <td>7134</td>\n",
       "      <td></td>\n",
       "      <td>우리유앤미아파트(연등)2</td>\n",
       "      <td>1</td>\n",
       "      <td>5464</td>\n",
       "      <td>530</td>\n",
       "      <td>501-13도</td>\n",
       "      <td>330</td>\n",
       "      <td>330</td>\n",
       "      <td>1</td>\n",
       "      <td>...</td>\n",
       "      <td></td>\n",
       "      <td></td>\n",
       "      <td>104</td>\n",
       "      <td>82-0000006804</td>\n",
       "      <td>NaN</td>\n",
       "      <td>1194891</td>\n",
       "      <td>6804</td>\n",
       "      <td>10200</td>\n",
       "      <td></td>\n",
       "      <td></td>\n",
       "    </tr>\n",
       "    <tr>\n",
       "      <th>3</th>\n",
       "      <td>7136</td>\n",
       "      <td></td>\n",
       "      <td>낙성대역앞(연등)</td>\n",
       "      <td>1</td>\n",
       "      <td>4494</td>\n",
       "      <td>620</td>\n",
       "      <td>산32-81 임</td>\n",
       "      <td>290</td>\n",
       "      <td>290</td>\n",
       "      <td>1</td>\n",
       "      <td>...</td>\n",
       "      <td></td>\n",
       "      <td></td>\n",
       "      <td>105</td>\n",
       "      <td>82-0000006806</td>\n",
       "      <td>NaN</td>\n",
       "      <td>3140241</td>\n",
       "      <td>6806</td>\n",
       "      <td>10100</td>\n",
       "      <td></td>\n",
       "      <td></td>\n",
       "    </tr>\n",
       "    <tr>\n",
       "      <th>4</th>\n",
       "      <td>7137</td>\n",
       "      <td></td>\n",
       "      <td>제일제당앞(연등)</td>\n",
       "      <td>1</td>\n",
       "      <td>1431</td>\n",
       "      <td>530</td>\n",
       "      <td>609-23도</td>\n",
       "      <td>330</td>\n",
       "      <td>330</td>\n",
       "      <td>1</td>\n",
       "      <td>...</td>\n",
       "      <td></td>\n",
       "      <td></td>\n",
       "      <td>104</td>\n",
       "      <td>82-0000006807</td>\n",
       "      <td>NaN</td>\n",
       "      <td>1185762</td>\n",
       "      <td>6807</td>\n",
       "      <td>10200</td>\n",
       "      <td></td>\n",
       "      <td></td>\n",
       "    </tr>\n",
       "  </tbody>\n",
       "</table>\n",
       "<p>5 rows × 23 columns</p>\n",
       "</div>"
      ],
      "text/plain": [
       "   교차로코드 입력일자          교차로명칭  유형코드  연동교차로코드  구코드 (공통)        지번 구경찰서 (공통);  \\\n",
       "0   7130          명덕초교입구(연등)     2     2297       740   산40-3 임        310   \n",
       "1   7132           우신고후문(연등)     1     1562       530     86-4전        330   \n",
       "2   7134       우리유앤미아파트(연등)2     1     5464       530   501-13도        330   \n",
       "3   7136           낙성대역앞(연등)     1     4494       620  산32-81 임        290   \n",
       "4   7137           제일제당앞(연등)     1     1431       530   609-23도        330   \n",
       "\n",
       "  신경찰서 (공통);  작업구분 (공통);  ...  계량기번호 도로구분 (공통); 관할사업소 (공통);        교차로관리번호  \\\n",
       "0        310           1  ...                           106  82-0000006800   \n",
       "1        330           1  ...                           104  82-0000006802   \n",
       "2        330           1  ...                           104  82-0000006804   \n",
       "3        290           1  ...                           105  82-0000006806   \n",
       "4        330           1  ...                           104  82-0000006807   \n",
       "\n",
       "  공간데이터  신규정규화ID  이력ID  동코드 (공통) 공사형태 (공통);  지도표출구분  \n",
       "0   NaN  6268134  6800     10700                     \n",
       "1   NaN   194753  6802     11000                     \n",
       "2   NaN  1194891  6804     10200                     \n",
       "3   NaN  3140241  6806     10100                     \n",
       "4   NaN  1185762  6807     10200                     \n",
       "\n",
       "[5 rows x 23 columns]"
      ]
     },
     "execution_count": 16,
     "metadata": {},
     "output_type": "execute_result"
    }
   ],
   "source": [
    "crossing = pd.read_csv('data/서울시 교차로 관련 정보.csv', encoding = 'CP949')\n",
    "crossing.head()"
   ]
  },
  {
   "cell_type": "code",
   "execution_count": 13,
   "metadata": {},
   "outputs": [
    {
     "data": {
      "text/plain": [
       "(7233, 23)"
      ]
     },
     "execution_count": 13,
     "metadata": {},
     "output_type": "execute_result"
    }
   ],
   "source": [
    "crossing.shape"
   ]
  },
  {
   "cell_type": "code",
   "execution_count": 93,
   "metadata": {},
   "outputs": [
    {
     "data": {
      "text/plain": [
       "구코드 (공통)\n",
       "110    222\n",
       "140    194\n",
       "170    237\n",
       "200    217\n",
       "210    208\n",
       "230    271\n",
       "260    282\n",
       "290    297\n",
       "300    215\n",
       "320    209\n",
       "350    367\n",
       "380    288\n",
       "410    232\n",
       "440    315\n",
       "470    367\n",
       "500    400\n",
       "530    316\n",
       "540    184\n",
       "560    397\n",
       "590    189\n",
       "620    244\n",
       "650    380\n",
       "680    437\n",
       "710    447\n",
       "740    318\n",
       "dtype: int64"
      ]
     },
     "execution_count": 93,
     "metadata": {},
     "output_type": "execute_result"
    }
   ],
   "source": [
    "crossing.groupby('구코드 (공통)').size()"
   ]
  },
  {
   "cell_type": "code",
   "execution_count": 98,
   "metadata": {},
   "outputs": [
    {
     "data": {
      "text/html": [
       "<div>\n",
       "<style scoped>\n",
       "    .dataframe tbody tr th:only-of-type {\n",
       "        vertical-align: middle;\n",
       "    }\n",
       "\n",
       "    .dataframe tbody tr th {\n",
       "        vertical-align: top;\n",
       "    }\n",
       "\n",
       "    .dataframe thead th {\n",
       "        text-align: right;\n",
       "    }\n",
       "</style>\n",
       "<table border=\"1\" class=\"dataframe\">\n",
       "  <thead>\n",
       "    <tr style=\"text-align: right;\">\n",
       "      <th></th>\n",
       "      <th>교차로명칭</th>\n",
       "      <th>유형코드</th>\n",
       "      <th>구코드 (공통)</th>\n",
       "      <th>지번</th>\n",
       "      <th>동코드 (공통)</th>\n",
       "    </tr>\n",
       "  </thead>\n",
       "  <tbody>\n",
       "    <tr>\n",
       "      <th>0</th>\n",
       "      <td>명덕초교입구(연등)</td>\n",
       "      <td>2</td>\n",
       "      <td>740</td>\n",
       "      <td>산40-3 임</td>\n",
       "      <td>10700</td>\n",
       "    </tr>\n",
       "    <tr>\n",
       "      <th>1</th>\n",
       "      <td>우신고후문(연등)</td>\n",
       "      <td>1</td>\n",
       "      <td>530</td>\n",
       "      <td>86-4전</td>\n",
       "      <td>11000</td>\n",
       "    </tr>\n",
       "    <tr>\n",
       "      <th>2</th>\n",
       "      <td>우리유앤미아파트(연등)2</td>\n",
       "      <td>1</td>\n",
       "      <td>530</td>\n",
       "      <td>501-13도</td>\n",
       "      <td>10200</td>\n",
       "    </tr>\n",
       "    <tr>\n",
       "      <th>3</th>\n",
       "      <td>낙성대역앞(연등)</td>\n",
       "      <td>1</td>\n",
       "      <td>620</td>\n",
       "      <td>산32-81 임</td>\n",
       "      <td>10100</td>\n",
       "    </tr>\n",
       "    <tr>\n",
       "      <th>4</th>\n",
       "      <td>제일제당앞(연등)</td>\n",
       "      <td>1</td>\n",
       "      <td>530</td>\n",
       "      <td>609-23도</td>\n",
       "      <td>10200</td>\n",
       "    </tr>\n",
       "  </tbody>\n",
       "</table>\n",
       "</div>"
      ],
      "text/plain": [
       "           교차로명칭  유형코드  구코드 (공통)        지번  동코드 (공통)\n",
       "0     명덕초교입구(연등)     2       740   산40-3 임     10700\n",
       "1      우신고후문(연등)     1       530     86-4전     11000\n",
       "2  우리유앤미아파트(연등)2     1       530   501-13도     10200\n",
       "3      낙성대역앞(연등)     1       620  산32-81 임     10100\n",
       "4      제일제당앞(연등)     1       530   609-23도     10200"
      ]
     },
     "execution_count": 98,
     "metadata": {},
     "output_type": "execute_result"
    }
   ],
   "source": [
    "crossing_new = crossing.loc[:, ['교차로명칭', '유형코드', '구코드 (공통)', '지번', '동코드 (공통)']]\n",
    "crossing_new.head()"
   ]
  },
  {
   "cell_type": "code",
   "execution_count": 99,
   "metadata": {},
   "outputs": [
    {
     "data": {
      "text/plain": [
       "pandas.core.frame.DataFrame"
      ]
     },
     "execution_count": 99,
     "metadata": {},
     "output_type": "execute_result"
    }
   ],
   "source": [
    "type(crossing_new)"
   ]
  },
  {
   "cell_type": "code",
   "execution_count": 97,
   "metadata": {},
   "outputs": [
    {
     "name": "stdout",
     "output_type": "stream",
     "text": [
      "<class 'pandas.core.frame.DataFrame'>\n",
      "RangeIndex: 7233 entries, 0 to 7232\n",
      "Data columns (total 5 columns):\n",
      " #   Column    Non-Null Count  Dtype \n",
      "---  ------    --------------  ----- \n",
      " 0   교차로명칭     7233 non-null   object\n",
      " 1   유형코드      7233 non-null   int64 \n",
      " 2   구코드 (공통)  7233 non-null   int64 \n",
      " 3   지번        7233 non-null   object\n",
      " 4   동코드 (공통)  7233 non-null   int64 \n",
      "dtypes: int64(3), object(2)\n",
      "memory usage: 282.7+ KB\n"
     ]
    }
   ],
   "source": [
    "crossing_new.info()"
   ]
  },
  {
   "cell_type": "code",
   "execution_count": 100,
   "metadata": {},
   "outputs": [
    {
     "data": {
      "text/html": [
       "<div>\n",
       "<style scoped>\n",
       "    .dataframe tbody tr th:only-of-type {\n",
       "        vertical-align: middle;\n",
       "    }\n",
       "\n",
       "    .dataframe tbody tr th {\n",
       "        vertical-align: top;\n",
       "    }\n",
       "\n",
       "    .dataframe thead th {\n",
       "        text-align: right;\n",
       "    }\n",
       "</style>\n",
       "<table border=\"1\" class=\"dataframe\">\n",
       "  <thead>\n",
       "    <tr style=\"text-align: right;\">\n",
       "      <th></th>\n",
       "      <th>교차로명칭</th>\n",
       "      <th>유형코드</th>\n",
       "      <th>구코드 (공통)</th>\n",
       "      <th>지번</th>\n",
       "      <th>동코드 (공통)</th>\n",
       "      <th>지역구</th>\n",
       "    </tr>\n",
       "  </thead>\n",
       "  <tbody>\n",
       "    <tr>\n",
       "      <th>0</th>\n",
       "      <td>명덕초교입구(연등)</td>\n",
       "      <td>2</td>\n",
       "      <td>740</td>\n",
       "      <td>산40-3 임</td>\n",
       "      <td>10700</td>\n",
       "      <td>NaN</td>\n",
       "    </tr>\n",
       "    <tr>\n",
       "      <th>1</th>\n",
       "      <td>우신고후문(연등)</td>\n",
       "      <td>1</td>\n",
       "      <td>530</td>\n",
       "      <td>86-4전</td>\n",
       "      <td>11000</td>\n",
       "      <td>NaN</td>\n",
       "    </tr>\n",
       "    <tr>\n",
       "      <th>2</th>\n",
       "      <td>우리유앤미아파트(연등)2</td>\n",
       "      <td>1</td>\n",
       "      <td>530</td>\n",
       "      <td>501-13도</td>\n",
       "      <td>10200</td>\n",
       "      <td>NaN</td>\n",
       "    </tr>\n",
       "    <tr>\n",
       "      <th>3</th>\n",
       "      <td>낙성대역앞(연등)</td>\n",
       "      <td>1</td>\n",
       "      <td>620</td>\n",
       "      <td>산32-81 임</td>\n",
       "      <td>10100</td>\n",
       "      <td>NaN</td>\n",
       "    </tr>\n",
       "    <tr>\n",
       "      <th>4</th>\n",
       "      <td>제일제당앞(연등)</td>\n",
       "      <td>1</td>\n",
       "      <td>530</td>\n",
       "      <td>609-23도</td>\n",
       "      <td>10200</td>\n",
       "      <td>NaN</td>\n",
       "    </tr>\n",
       "    <tr>\n",
       "      <th>...</th>\n",
       "      <td>...</td>\n",
       "      <td>...</td>\n",
       "      <td>...</td>\n",
       "      <td>...</td>\n",
       "      <td>...</td>\n",
       "      <td>...</td>\n",
       "    </tr>\n",
       "    <tr>\n",
       "      <th>7228</th>\n",
       "      <td>압구정현대아파트77동앞</td>\n",
       "      <td>1</td>\n",
       "      <td>680</td>\n",
       "      <td>369-1대</td>\n",
       "      <td>11000</td>\n",
       "      <td>NaN</td>\n",
       "    </tr>\n",
       "    <tr>\n",
       "      <th>7229</th>\n",
       "      <td>로뎀빌딩</td>\n",
       "      <td>1</td>\n",
       "      <td>680</td>\n",
       "      <td>603-2 대</td>\n",
       "      <td>10700</td>\n",
       "      <td>NaN</td>\n",
       "    </tr>\n",
       "    <tr>\n",
       "      <th>7230</th>\n",
       "      <td>국제기술학교</td>\n",
       "      <td>1</td>\n",
       "      <td>680</td>\n",
       "      <td>279-19 도</td>\n",
       "      <td>10800</td>\n",
       "      <td>NaN</td>\n",
       "    </tr>\n",
       "    <tr>\n",
       "      <th>7231</th>\n",
       "      <td>힐탑호텔</td>\n",
       "      <td>1</td>\n",
       "      <td>680</td>\n",
       "      <td>213-13 대</td>\n",
       "      <td>10800</td>\n",
       "      <td>NaN</td>\n",
       "    </tr>\n",
       "    <tr>\n",
       "      <th>7232</th>\n",
       "      <td>베네치아호텔</td>\n",
       "      <td>1</td>\n",
       "      <td>680</td>\n",
       "      <td>233-4 대</td>\n",
       "      <td>10100</td>\n",
       "      <td>NaN</td>\n",
       "    </tr>\n",
       "  </tbody>\n",
       "</table>\n",
       "<p>7233 rows × 6 columns</p>\n",
       "</div>"
      ],
      "text/plain": [
       "              교차로명칭  유형코드  구코드 (공통)        지번  동코드 (공통)  지역구\n",
       "0        명덕초교입구(연등)     2       740   산40-3 임     10700  NaN\n",
       "1         우신고후문(연등)     1       530     86-4전     11000  NaN\n",
       "2     우리유앤미아파트(연등)2     1       530   501-13도     10200  NaN\n",
       "3         낙성대역앞(연등)     1       620  산32-81 임     10100  NaN\n",
       "4         제일제당앞(연등)     1       530   609-23도     10200  NaN\n",
       "...             ...   ...       ...       ...       ...  ...\n",
       "7228   압구정현대아파트77동앞     1       680    369-1대     11000  NaN\n",
       "7229           로뎀빌딩     1       680   603-2 대     10700  NaN\n",
       "7230         국제기술학교     1       680  279-19 도     10800  NaN\n",
       "7231           힐탑호텔     1       680  213-13 대     10800  NaN\n",
       "7232         베네치아호텔     1       680   233-4 대     10100  NaN\n",
       "\n",
       "[7233 rows x 6 columns]"
      ]
     },
     "execution_count": 100,
     "metadata": {},
     "output_type": "execute_result"
    }
   ],
   "source": [
    "crossing_new['지역구'] = np.nan\n",
    "crossing_new"
   ]
  },
  {
   "cell_type": "code",
   "execution_count": 101,
   "metadata": {},
   "outputs": [
    {
     "data": {
      "text/html": [
       "<div>\n",
       "<style scoped>\n",
       "    .dataframe tbody tr th:only-of-type {\n",
       "        vertical-align: middle;\n",
       "    }\n",
       "\n",
       "    .dataframe tbody tr th {\n",
       "        vertical-align: top;\n",
       "    }\n",
       "\n",
       "    .dataframe thead th {\n",
       "        text-align: right;\n",
       "    }\n",
       "</style>\n",
       "<table border=\"1\" class=\"dataframe\">\n",
       "  <thead>\n",
       "    <tr style=\"text-align: right;\">\n",
       "      <th></th>\n",
       "      <th>교차로명칭</th>\n",
       "      <th>유형코드</th>\n",
       "      <th>구코드 (공통)</th>\n",
       "      <th>지번</th>\n",
       "      <th>동코드 (공통)</th>\n",
       "      <th>지역구</th>\n",
       "    </tr>\n",
       "  </thead>\n",
       "  <tbody>\n",
       "    <tr>\n",
       "      <th>0</th>\n",
       "      <td>명덕초교입구(연등)</td>\n",
       "      <td>2</td>\n",
       "      <td>740</td>\n",
       "      <td>산40-3 임</td>\n",
       "      <td>10700</td>\n",
       "      <td>강동구</td>\n",
       "    </tr>\n",
       "    <tr>\n",
       "      <th>1</th>\n",
       "      <td>우신고후문(연등)</td>\n",
       "      <td>1</td>\n",
       "      <td>530</td>\n",
       "      <td>86-4전</td>\n",
       "      <td>11000</td>\n",
       "      <td>구로구</td>\n",
       "    </tr>\n",
       "    <tr>\n",
       "      <th>2</th>\n",
       "      <td>우리유앤미아파트(연등)2</td>\n",
       "      <td>1</td>\n",
       "      <td>530</td>\n",
       "      <td>501-13도</td>\n",
       "      <td>10200</td>\n",
       "      <td>구로구</td>\n",
       "    </tr>\n",
       "    <tr>\n",
       "      <th>3</th>\n",
       "      <td>낙성대역앞(연등)</td>\n",
       "      <td>1</td>\n",
       "      <td>620</td>\n",
       "      <td>산32-81 임</td>\n",
       "      <td>10100</td>\n",
       "      <td>관악구</td>\n",
       "    </tr>\n",
       "    <tr>\n",
       "      <th>4</th>\n",
       "      <td>제일제당앞(연등)</td>\n",
       "      <td>1</td>\n",
       "      <td>530</td>\n",
       "      <td>609-23도</td>\n",
       "      <td>10200</td>\n",
       "      <td>구로구</td>\n",
       "    </tr>\n",
       "    <tr>\n",
       "      <th>...</th>\n",
       "      <td>...</td>\n",
       "      <td>...</td>\n",
       "      <td>...</td>\n",
       "      <td>...</td>\n",
       "      <td>...</td>\n",
       "      <td>...</td>\n",
       "    </tr>\n",
       "    <tr>\n",
       "      <th>7228</th>\n",
       "      <td>압구정현대아파트77동앞</td>\n",
       "      <td>1</td>\n",
       "      <td>680</td>\n",
       "      <td>369-1대</td>\n",
       "      <td>11000</td>\n",
       "      <td>강남구</td>\n",
       "    </tr>\n",
       "    <tr>\n",
       "      <th>7229</th>\n",
       "      <td>로뎀빌딩</td>\n",
       "      <td>1</td>\n",
       "      <td>680</td>\n",
       "      <td>603-2 대</td>\n",
       "      <td>10700</td>\n",
       "      <td>강남구</td>\n",
       "    </tr>\n",
       "    <tr>\n",
       "      <th>7230</th>\n",
       "      <td>국제기술학교</td>\n",
       "      <td>1</td>\n",
       "      <td>680</td>\n",
       "      <td>279-19 도</td>\n",
       "      <td>10800</td>\n",
       "      <td>강남구</td>\n",
       "    </tr>\n",
       "    <tr>\n",
       "      <th>7231</th>\n",
       "      <td>힐탑호텔</td>\n",
       "      <td>1</td>\n",
       "      <td>680</td>\n",
       "      <td>213-13 대</td>\n",
       "      <td>10800</td>\n",
       "      <td>강남구</td>\n",
       "    </tr>\n",
       "    <tr>\n",
       "      <th>7232</th>\n",
       "      <td>베네치아호텔</td>\n",
       "      <td>1</td>\n",
       "      <td>680</td>\n",
       "      <td>233-4 대</td>\n",
       "      <td>10100</td>\n",
       "      <td>강남구</td>\n",
       "    </tr>\n",
       "  </tbody>\n",
       "</table>\n",
       "<p>7233 rows × 6 columns</p>\n",
       "</div>"
      ],
      "text/plain": [
       "              교차로명칭  유형코드  구코드 (공통)        지번  동코드 (공통)  지역구\n",
       "0        명덕초교입구(연등)     2       740   산40-3 임     10700  강동구\n",
       "1         우신고후문(연등)     1       530     86-4전     11000  구로구\n",
       "2     우리유앤미아파트(연등)2     1       530   501-13도     10200  구로구\n",
       "3         낙성대역앞(연등)     1       620  산32-81 임     10100  관악구\n",
       "4         제일제당앞(연등)     1       530   609-23도     10200  구로구\n",
       "...             ...   ...       ...       ...       ...  ...\n",
       "7228   압구정현대아파트77동앞     1       680    369-1대     11000  강남구\n",
       "7229           로뎀빌딩     1       680   603-2 대     10700  강남구\n",
       "7230         국제기술학교     1       680  279-19 도     10800  강남구\n",
       "7231           힐탑호텔     1       680  213-13 대     10800  강남구\n",
       "7232         베네치아호텔     1       680   233-4 대     10100  강남구\n",
       "\n",
       "[7233 rows x 6 columns]"
      ]
     },
     "execution_count": 101,
     "metadata": {},
     "output_type": "execute_result"
    }
   ],
   "source": [
    "crossing_new.loc[crossing_new['구코드 (공통)'] == 110, ['지역구']] = '종로구'\n",
    "crossing_new.loc[crossing_new['구코드 (공통)'] == 140, ['지역구']] = '중구'\n",
    "crossing_new.loc[crossing_new['구코드 (공통)'] == 170, ['지역구']] = '용산구'\n",
    "crossing_new.loc[crossing_new['구코드 (공통)'] == 200, ['지역구']] = '성동구'\n",
    "crossing_new.loc[crossing_new['구코드 (공통)'] == 210, ['지역구']] = '광진구'\n",
    "crossing_new.loc[crossing_new['구코드 (공통)'] == 230, ['지역구']] = '동대문구'\n",
    "crossing_new.loc[crossing_new['구코드 (공통)'] == 260, ['지역구']] = '중랑구'\n",
    "crossing_new.loc[crossing_new['구코드 (공통)'] == 290, ['지역구']] = '성북구'\n",
    "crossing_new.loc[crossing_new['구코드 (공통)'] == 300, ['지역구']] = '강북구'\n",
    "crossing_new.loc[crossing_new['구코드 (공통)'] == 320, ['지역구']] = '도봉구'\n",
    "crossing_new.loc[crossing_new['구코드 (공통)'] == 350, ['지역구']] = '노원구'\n",
    "crossing_new.loc[crossing_new['구코드 (공통)'] == 380, ['지역구']] = '은평구'\n",
    "crossing_new.loc[crossing_new['구코드 (공통)'] == 410, ['지역구']] = '서대문구'\n",
    "crossing_new.loc[crossing_new['구코드 (공통)'] == 440, ['지역구']] = '마포구'\n",
    "crossing_new.loc[crossing_new['구코드 (공통)'] == 470, ['지역구']] = '양천구'\n",
    "crossing_new.loc[crossing_new['구코드 (공통)'] == 500, ['지역구']] = '강서구'\n",
    "crossing_new.loc[crossing_new['구코드 (공통)'] == 530, ['지역구']] = '구로구'\n",
    "crossing_new.loc[crossing_new['구코드 (공통)'] == 540, ['지역구']] = '금천구'\n",
    "crossing_new.loc[crossing_new['구코드 (공통)'] == 560, ['지역구']] = '영등포구'\n",
    "crossing_new.loc[crossing_new['구코드 (공통)'] == 590, ['지역구']] = '동작구'\n",
    "crossing_new.loc[crossing_new['구코드 (공통)'] == 620, ['지역구']] = '관악구'\n",
    "crossing_new.loc[crossing_new['구코드 (공통)'] == 650, ['지역구']] = '서초구'\n",
    "crossing_new.loc[crossing_new['구코드 (공통)'] == 680, ['지역구']] = '강남구'\n",
    "crossing_new.loc[crossing_new['구코드 (공통)'] == 710, ['지역구']] = '송파구'\n",
    "crossing_new.loc[crossing_new['구코드 (공통)'] == 740, ['지역구']] = '강동구'\n",
    "\n",
    "crossing_new"
   ]
  },
  {
   "cell_type": "code",
   "execution_count": 102,
   "metadata": {},
   "outputs": [
    {
     "data": {
      "text/plain": [
       "교차로명칭       0\n",
       "유형코드        0\n",
       "구코드 (공통)    0\n",
       "지번          0\n",
       "동코드 (공통)    0\n",
       "지역구         0\n",
       "dtype: int64"
      ]
     },
     "execution_count": 102,
     "metadata": {},
     "output_type": "execute_result"
    }
   ],
   "source": [
    "crossing_new.isnull().sum()"
   ]
  },
  {
   "cell_type": "code",
   "execution_count": 104,
   "metadata": {},
   "outputs": [
    {
     "data": {
      "image/png": "[encoded data removed]",
      "text/plain": [
       "<Figure size 1296x360 with 1 Axes>"
      ]
     },
     "metadata": {
      "needs_background": "light"
     },
     "output_type": "display_data"
    }
   ],
   "source": [
    "crossing_gu = crossing_new.groupby('지역구').size()\n",
    "# crossing_gu.sort_values(ascending=False, inplace=True)\n",
    "\n",
    "ax = crossing_gu.plot(kind='bar', figsize=(18, 5), rot=0, title=\"지역구별 교차로 개수\")\n",
    "for p in ax.patches: \n",
    "    left, bottom, width, height = p.get_bbox().bounds \n",
    "    ax.annotate(\"%d\"%(height), (left+width/2, height+2), ha='center')\n",
    "plt.box(False)\n",
    "plt.xlabel('')\n",
    "plt.tight_layout()\n",
    "plt.show()"
   ]
  },
  {
   "cell_type": "code",
   "execution_count": 109,
   "metadata": {},
   "outputs": [
    {
     "data": {
      "text/plain": [
       "지역구\n",
       "강남구     437\n",
       "강동구     318\n",
       "강북구     215\n",
       "강서구     400\n",
       "관악구     244\n",
       "광진구     208\n",
       "구로구     316\n",
       "금천구     184\n",
       "노원구     367\n",
       "도봉구     209\n",
       "동대문구    271\n",
       "동작구     189\n",
       "마포구     315\n",
       "서대문구    232\n",
       "서초구     380\n",
       "성동구     217\n",
       "성북구     297\n",
       "송파구     447\n",
       "양천구     367\n",
       "영등포구    397\n",
       "용산구     237\n",
       "은평구     288\n",
       "종로구     222\n",
       "중구      194\n",
       "중랑구     282\n",
       "dtype: int64"
      ]
     },
     "execution_count": 109,
     "metadata": {},
     "output_type": "execute_result"
    }
   ],
   "source": [
    "crossing_gu"
   ]
  },
  {
   "cell_type": "code",
   "execution_count": 107,
   "metadata": {},
   "outputs": [
    {
     "data": {
      "text/plain": [
       "지역구\n",
       "강남구      18\n",
       "강동구      55\n",
       "강북구      34\n",
       "강서구      31\n",
       "관악구      25\n",
       "광진구      53\n",
       "구로구      49\n",
       "금천구      20\n",
       "노원구      47\n",
       "도봉구      34\n",
       "동대문구     91\n",
       "동작구      28\n",
       "마포구      26\n",
       "서대문구      8\n",
       "서초구      11\n",
       "성동구      36\n",
       "성북구      25\n",
       "송파구     154\n",
       "양천구      53\n",
       "영등포구     94\n",
       "용산구      13\n",
       "은평구      39\n",
       "종로구       9\n",
       "중구        3\n",
       "중랑구      62\n",
       "dtype: int64"
      ]
     },
     "execution_count": 107,
     "metadata": {},
     "output_type": "execute_result"
    }
   ],
   "source": [
    "accident = pd.read_csv('data/자전거사고다발지역정보.csv', encoding = 'CP949')\n",
    "accident_seoul = accident.loc[accident['시도시군구명'].str.contains('서울특별시')]\n",
    "accident_seoul=accident_seoul.dropna(subset=['위도'])\n",
    "accident_seoul=accident_seoul.dropna(subset=['경도'])\n",
    "accident_seoul['지역구']=accident['지점명'].str.split(\" \").str[1]\n",
    "accident_seoul=accident_seoul.drop(['다발지역폴리곤'], axis='columns')\n",
    "\n",
    "accident_seoul_gu = accident_seoul.groupby('지역구').size()\n",
    "accident_seoul_gu"
   ]
  },
  {
   "cell_type": "code",
   "execution_count": 108,
   "metadata": {},
   "outputs": [
    {
     "data": {
      "image/png": "[encoded data removed]",
      "text/plain": [
       "<Figure size 1296x360 with 2 Axes>"
      ]
     },
     "metadata": {
      "needs_background": "light"
     },
     "output_type": "display_data"
    }
   ],
   "source": [
    "ax = crossing_gu.plot(kind='bar', figsize=(18, 5), rot=0, title=\"지역구 교차로 개수별 사고현황\")\n",
    "for p in ax.patches: \n",
    "    left, bottom, width, height = p.get_bbox().bounds \n",
    "    ax.annotate(\"%d\"%(height), (left+width/2, height+2), ha='center')\n",
    "\n",
    "plt.box(False)\n",
    "plt.xlabel('')\n",
    "plt.tight_layout()\n",
    "\n",
    "plt.twinx() # bar 그래프와 plot 그래프 합치기\n",
    "plt.plot(accident_seoul_gu ,'r.-')\n",
    "plt.show()"
   ]
  },
  {
   "cell_type": "code",
   "execution_count": 110,
   "metadata": {},
   "outputs": [
    {
     "data": {
      "image/png": "[encoded data removed]",
      "text/plain": [
       "<Figure size 432x288 with 1 Axes>"
      ]
     },
     "metadata": {
      "needs_background": "light"
     },
     "output_type": "display_data"
    }
   ],
   "source": [
    "plt.plot(crossing_gu, accident_seoul_gu, 'o')\n",
    "plt.show()"
   ]
  },
  {
   "cell_type": "code",
   "execution_count": 111,
   "metadata": {},
   "outputs": [
    {
     "data": {
      "text/plain": [
       "(0.46995711968307363, 0.017765081124085126)"
      ]
     },
     "execution_count": 111,
     "metadata": {},
     "output_type": "execute_result"
    }
   ],
   "source": [
    "import scipy.stats as stats\n",
    "\n",
    "corr = stats.pearsonr(crossing_gu, accident_seoul_gu)\n",
    "corr"
   ]
  },
  {
   "cell_type": "code",
   "execution_count": 115,
   "metadata": {},
   "outputs": [],
   "source": [
    "from sklearn.linear_model import LinearRegression"
   ]
  },
  {
   "cell_type": "code",
   "execution_count": 116,
   "metadata": {},
   "outputs": [
    {
     "data": {
      "text/plain": [
       "LinearRegression(copy_X=True, fit_intercept=True, n_jobs=None, normalize=False)"
      ]
     },
     "execution_count": 116,
     "metadata": {},
     "output_type": "execute_result"
    }
   ],
   "source": [
    "line_fitter = LinearRegression()\n",
    "line_fitter.fit(crossing_gu.values.reshape(-1,1), accident_seoul_gu)"
   ]
  },
  {
   "cell_type": "code",
   "execution_count": 117,
   "metadata": {},
   "outputs": [
    {
     "data": {
      "text/plain": [
       "(0.46995711968307363, 0.017765081124085126)"
      ]
     },
     "execution_count": 117,
     "metadata": {},
     "output_type": "execute_result"
    }
   ],
   "source": [
    "corr"
   ]
  },
  {
   "cell_type": "code",
   "execution_count": 118,
   "metadata": {},
   "outputs": [
    {
     "data": {
      "text/plain": [
       "0.4699571196830736"
      ]
     },
     "execution_count": 118,
     "metadata": {},
     "output_type": "execute_result"
    }
   ],
   "source": [
    "crossing_gu.corr(accident_seoul_gu)"
   ]
  }
 ],
 "metadata": {
  "kernelspec": {
   "display_name": "Python 3",
   "language": "python",
   "name": "python3"
  },
  "language_info": {
   "codemirror_mode": {
    "name": "ipython",
    "version": 3
   },
   "file_extension": ".py",
   "mimetype": "text/x-python",
   "name": "python",
   "nbconvert_exporter": "python",
   "pygments_lexer": "ipython3",
   "version": "3.6.10"
  }
 },
 "nbformat": 4,
 "nbformat_minor": 4
}
