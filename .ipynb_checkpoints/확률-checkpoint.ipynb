{
 "cells": [
  {
   "cell_type": "code",
   "execution_count": 3,
   "metadata": {},
   "outputs": [
    {
     "name": "stdout",
     "output_type": "stream",
     "text": [
      "0.6666666666666666\n"
     ]
    }
   ],
   "source": [
    "# 융합소프트웨어학부 60161643 현지예\n",
    "\n",
    "dice = [1, 2, 3, 4, 5, 6]       # 1부터 6까지의 주사위 눈\n",
    "A = set([1, 2, 3, 6])           # 6의 약수인 주사위 눈\n",
    "B = set([2, 4, 6])              # 짝수인 주사위 눈\n",
    "perA = len(A) / len(dice)       # 주사위를 던졌을 때 6의 약수일 확률\n",
    "perB = len(B) / len(dice)       # 주사위를 던졌을 때 짝수일 확률\n",
    "perAB = len(A & B) / len(dice)  # 6의 약수인 동시에 짝수일 확률\n",
    "perC = perAB / perB             # 조건부확률 (짝수가 나왔을 때 6의 약수일 확률)\n",
    "\n",
    "print(perC)"
   ]
  },
  {
   "cell_type": "code",
   "execution_count": null,
   "metadata": {},
   "outputs": [],
   "source": []
  }
 ],
 "metadata": {
  "kernelspec": {
   "display_name": "Python 3",
   "language": "python",
   "name": "python3"
  },
  "language_info": {
   "codemirror_mode": {
    "name": "ipython",
    "version": 3
   },
   "file_extension": ".py",
   "mimetype": "text/x-python",
   "name": "python",
   "nbconvert_exporter": "python",
   "pygments_lexer": "ipython3",
   "version": "3.6.10"
  }
 },
 "nbformat": 4,
 "nbformat_minor": 4
}
